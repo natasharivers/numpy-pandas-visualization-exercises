{
 "cells": [
  {
   "cell_type": "markdown",
   "metadata": {},
   "source": [
    "####  gives us the ability to store and organize data into tables\n",
    "#### the way to work in tables within python\n",
    "#### pandas METHOD vs pandas FUNCTION"
   ]
  },
  {
   "cell_type": "markdown",
   "metadata": {},
   "source": [
    "## ABOUT DATAFRAMES:\n",
    "- tabular\n",
    "- 2-dimensional\n",
    "- maniplute and transform data"
   ]
  },
  {
   "cell_type": "markdown",
   "metadata": {},
   "source": [
    "#### FUNCTIONS:\n",
    "- \"contains own scope.\"\n",
    "- \"called by name\"\n",
    "- \"can or cannot return one or more values\"\n",
    "\n",
    "    they start with....\n",
    "- pd.\n",
    "- pandas."
   ]
  },
  {
   "cell_type": "markdown",
   "metadata": {},
   "source": [
    "#### DataFrame METHODS:\n",
    "- \"a function that belongs to a specific object\"\n",
    "\n",
    "    - function applied on a specific object\n",
    "    - (ex): pandas.DataFrame.shape\n",
    "        "
   ]
  },
  {
   "cell_type": "markdown",
   "metadata": {},
   "source": [
    "### CREATING DATAFRAMES:\n",
    "    "
   ]
  },
  {
   "cell_type": "markdown",
   "metadata": {},
   "source": [
    "###### Method 1(From Dict):\n",
    "    - Pass a dictionary where keys are column names, \n",
    "    - values are column values"
   ]
  },
  {
   "cell_type": "code",
   "execution_count": 6,
   "metadata": {},
   "outputs": [],
   "source": [
    "import pandas as pd"
   ]
  },
  {
   "cell_type": "raw",
   "metadata": {},
   "source": [
    "#ex:\n",
    "Team = ['Spurs', 'Bulls', 'Mavs']\n",
    "W= [40, 20, 15]\n",
    "L= [15, 35, 40]\n",
    "\n",
    "df = pd.DataFrames({'Teams': Team, 'Wins': W, 'Loss': L})"
   ]
  },
  {
   "cell_type": "markdown",
   "metadata": {},
   "source": [
    "#### Method 2(From List):\n",
    "    - Pass a list of lists where each nest list is a row in dataframe"
   ]
  },
  {
   "cell_type": "markdown",
   "metadata": {},
   "source": [
    "#### Method 3(From existing df):\n",
    "    - Copy a dataframe from an existing dataframe\n",
    "    - new_df = existing_df.copy() <--- use this version\n",
    "    #OR\n",
    "    -new_df = existing_df\n",
    "    \n",
    "    -CHANGES THE ORIGINAL, unless you create a new variable\n",
    "   "
   ]
  },
  {
   "cell_type": "markdown",
   "metadata": {},
   "source": [
    "##### how to remove a column\n",
    "    -new_df.drop(column = ['Team', inplace=True]"
   ]
  },
  {
   "cell_type": "markdown",
   "metadata": {},
   "source": [
    "## OBJECT TYPES:\n",
    "- type(new_df)"
   ]
  },
  {
   "cell_type": "markdown",
   "metadata": {},
   "source": [
    "## COMMON PRACTICE:\n",
    "    - put s in Series\n",
    "    - put df in DataFrame\n",
    "    - name items in a descriptive way so its easy to identify"
   ]
  },
  {
   "cell_type": "markdown",
   "metadata": {},
   "source": [
    "## VIEWING DATAFRAMES:\n",
    "- print(nba_df)\n",
    "- nba_df\n",
    "\n",
    "- will work without print statement in jupyter notebook and ipython"
   ]
  },
  {
   "cell_type": "markdown",
   "metadata": {},
   "source": [
    "## FINDING INFO WITHIN DATAFRAME:\n",
    "- df.head(n) #first 5 rows by default\n",
    "- df.tail(n) #last 5 rows by default\n",
    "- df.sample(n, random_state= any int) #gives random sample\n",
    "    - random_state sets that place so it can be reproduced (give back same \"random samples\"\n",
    "    - random_state is also called \"seed\"\n",
    "- df.sample(frac = .30, random_state = 123)\n",
    "    - this is how you take a fraction or percentage of total rows\n",
    "    - this ex gives a random 30% of total rows"
   ]
  },
  {
   "cell_type": "markdown",
   "metadata": {},
   "source": [
    "## COMPARING DATAFRAMES:\n",
    "- from NumPy... (my_array <0).all()\n",
    "- from DataFrames:\n",
    "    - (df1 == df2).all()\n",
    "        -returns Bool is ALL are a like\n",
    "    - (df1 == df2).any()\n",
    "        -returns Bool is ANY are a like"
   ]
  },
  {
   "cell_type": "markdown",
   "metadata": {},
   "source": [
    "#### df.info()\n",
    "- will give you a complete set of info on your data\n",
    "- includes: datatype, columns, rows, summary, and memory size\n",
    "\n",
    "#### df.describe()\n",
    "- will give numberic variables and give summary stats on data\n"
   ]
  },
  {
   "cell_type": "markdown",
   "metadata": {},
   "source": [
    "## DATAFRAME ATTRIBUTES (not functions):\n",
    "- do NOT use parenthasis ()\n",
    "\n",
    "- Attribute types:\n",
    "    - df.dtypes\n",
    "    - df.shape\n",
    "    - df.index\n",
    "    - df.columns\n"
   ]
  },
  {
   "cell_type": "markdown",
   "metadata": {},
   "source": [
    "#### type_series = df.dtypes\n",
    "#### np.where(type_series == 'int64')\n",
    "- this will return all columns that have integers "
   ]
  },
  {
   "cell_type": "markdown",
   "metadata": {},
   "source": [
    "#### df.shape[0] <-- returns the number of rows\n",
    "#### df.size <--- returns total number of elements (row * columns)\n",
    "#### df.columns <-- returns all column names\n",
    "#### df.index <-- returns range (start, stop, step)"
   ]
  },
  {
   "cell_type": "markdown",
   "metadata": {},
   "source": [
    "## rename columns:\n",
    "- df.columns = ['Team', 'W', 'L']\n",
    "- ^-- hardcoding- naming them already\n",
    "\n",
    "- df. columns = df.columns.str.lower() <-- will lowercase"
   ]
  },
  {
   "cell_type": "markdown",
   "metadata": {},
   "source": [
    "# SUBSET/FILTER:"
   ]
  },
  {
   "cell_type": "markdown",
   "metadata": {},
   "source": [
    "## FILTERING:\n",
    "\n",
    "### COLUMN:\n",
    "#### RETURN A DATAFRAME:\n",
    "    - df([col1, col2])\n",
    "    - df([col1])\n",
    "    - mycols = [col1, col2] --> df[mycols]\n",
    "    \n",
    "#### RETURN A SERIES\n",
    "    - df[col1]\n",
    "    - df.col1"
   ]
  },
  {
   "cell_type": "markdown",
   "metadata": {},
   "source": [
    "### ROWS:\n",
    "- nba_df(nba_df.w < 20)\n",
    "- ^-- returs wins with less than 20\n",
    "\n",
    "#### using AND:\n",
    "- nba_df[(nba_df.w > 30) & (nba_df.l < 20)]\n",
    "- ^-- returns wins more than 30 and loss less than 20\n",
    "\n",
    "#### using OR:\n",
    "- nba_df[(nba_df.w > 30) | (nba_df.l < 20)]\n",
    "- ^-- returns wins more than 30 OR loss less than 20\n"
   ]
  },
  {
   "cell_type": "markdown",
   "metadata": {},
   "source": [
    "## SUBSETTING:\n",
    "- nba_df[nba_df.w > 30].team <-- calls out specific column (\"team\")\n",
    "- ^-- this returns only TEAM name\n",
    "\n",
    "#### nba_df[nba_df.w > 30][[team]] <-- return as a dataframe\n",
    "#### nba_df[nba_df.w > 30].team <--- return as a series\n",
    "#### nba_df[nba_df.w > 30][team] <--- return as a series"
   ]
  },
  {
   "cell_type": "markdown",
   "metadata": {},
   "source": [
    "# DROP, RENAME AND ADD COLUMNS\n"
   ]
  },
  {
   "cell_type": "markdown",
   "metadata": {},
   "source": [
    "## DROP:\n",
    "- df.drop(columns =['w', 'l']) <--- this removes wins and losses\n",
    "    - will not be stored. \n",
    "        - must give new variable name to store \n",
    "        - or same variable name if you dont want original (reassign)\n",
    "- df.drop(columns =['w', 'l'], inplace = True)\n",
    "    - DONT use inplace in a function"
   ]
  },
  {
   "cell_type": "markdown",
   "metadata": {},
   "source": [
    "### DROP COLUMN MORE:\n",
    "#### del df['col']\n",
    "##### or\n",
    "#### df = df.drop(columns=['col'])"
   ]
  },
  {
   "cell_type": "markdown",
   "metadata": {},
   "source": [
    "## RENAME:\n",
    "- df.columns = ['team', 'w', 'l']\n",
    "- can rename using dictionaries:\n",
    "    - df.rename(columns = { 'original name' : 'new name'})"
   ]
  },
  {
   "cell_type": "markdown",
   "metadata": {},
   "source": [
    "## ADD COLUMNS:\n",
    "- nba_df['win_pct'] = nba_df['w']/ (nba_df['w'] + nba_df['l'])\n",
    "- nba_df.assign(ttl_games = nba_df['w'] + nba_df['l']"
   ]
  },
  {
   "cell_type": "markdown",
   "metadata": {},
   "source": [
    "# SORT DATAFRAMES:\n",
    "- sorted_df = nba_df.sort_values(by = 'w', ascending = False)\n",
    "- sorted_df.head(8)\n",
    "\n",
    "## sort by 2 columns:\n",
    "-nba_df.sort_values(['w', 'l'], ascending = ([False, True]))"
   ]
  },
  {
   "cell_type": "code",
   "execution_count": null,
   "metadata": {},
   "outputs": [],
   "source": []
  }
 ],
 "metadata": {
  "kernelspec": {
   "display_name": "Python 3",
   "language": "python",
   "name": "python3"
  },
  "language_info": {
   "codemirror_mode": {
    "name": "ipython",
    "version": 3
   },
   "file_extension": ".py",
   "mimetype": "text/x-python",
   "name": "python",
   "nbconvert_exporter": "python",
   "pygments_lexer": "ipython3",
   "version": "3.8.5"
  }
 },
 "nbformat": 4,
 "nbformat_minor": 4
}
